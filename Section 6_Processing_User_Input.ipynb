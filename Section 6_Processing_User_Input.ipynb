{
 "cells": [
  {
   "cell_type": "code",
   "execution_count": 6,
   "metadata": {},
   "outputs": [
    {
     "name": "stdout",
     "output_type": "stream",
     "text": [
      "Enter temperature: 7\n",
      "Cold\n"
     ]
    }
   ],
   "source": [
    "# intro to User Input\n",
    "\n",
    "def hot_warm_cold(num):\n",
    "    \"\"\"\n",
    "    This takes a temperature as parameter.\n",
    "    Hot - greater than 25\n",
    "    Warm - 15 to 25 inclusive\n",
    "    Cold - less than 15\n",
    "    \"\"\"\n",
    "    \n",
    "    if num > 25:\n",
    "        return \"Hot\"\n",
    "    elif num < 15:\n",
    "        return \"Cold\"\n",
    "    else:\n",
    "        return \"Warm\"\n",
    "\n",
    "# to get a value from a user use the input function\n",
    "# you can either print it out or you can turn it into a variable\n",
    "\n",
    "user_input = int(input(\"Enter temperature: \"))\n",
    "print(hot_warm_cold(user_input))\n",
    "\n",
    "# remember user input is converted to a string. "
   ]
  },
  {
   "cell_type": "code",
   "execution_count": 9,
   "metadata": {
    "scrolled": true
   },
   "outputs": [
    {
     "name": "stdout",
     "output_type": "stream",
     "text": [
      "Enter your name: Obi Wan\n",
      "Hello Obi Wan\n"
     ]
    }
   ],
   "source": [
    "# string formatting\n",
    "\n",
    "user_input = input(\"Enter your name: \")\n",
    "message = \"Hello %s!\" % user_input # this prints out the name of the user input. This method works in versions < 3.6.\n",
    "message = f\"Hello {user_input}\" # this works with python 3.6 or above\n",
    "print(message)"
   ]
  },
  {
   "cell_type": "code",
   "execution_count": 14,
   "metadata": {},
   "outputs": [
    {
     "name": "stdout",
     "output_type": "stream",
     "text": [
      "Enter your name: Ben\n",
      "Enter your surname: Solo\n"
     ]
    },
    {
     "data": {
      "text/plain": [
       "'Hello Ben Solo!'"
      ]
     },
     "execution_count": 14,
     "metadata": {},
     "output_type": "execute_result"
    }
   ],
   "source": [
    "# string formatting, multiple variables\n",
    "\n",
    "name = input(\"Enter your name: \")\n",
    "surname = input(\"Enter your surname: \")\n",
    "\n",
    "message = \"Hello %s %s!\" % (name, surname) # the arguments go inside a tuple\n",
    "message = f\"Hello {name} {surname}\" # each variable gets its own brackets\n",
    "\n",
    "message"
   ]
  },
  {
   "cell_type": "code",
   "execution_count": 19,
   "metadata": {
    "scrolled": true
   },
   "outputs": [
    {
     "name": "stdout",
     "output_type": "stream",
     "text": [
      "Please Enter in your first name: Ben\n"
     ]
    },
    {
     "data": {
      "text/plain": [
       "'Hello Ben'"
      ]
     },
     "execution_count": 19,
     "metadata": {},
     "output_type": "execute_result"
    }
   ],
   "source": [
    "# Coding Exercise 28 String Formatting\n",
    "def hello_person ():\n",
    "    \"\"\"\n",
    "    Implement a function that gets a person's name as parameter and greets the person with Hi Person. \n",
    "    Can't use f string just for fun. \n",
    "    \"\"\"\n",
    "    string = input(\"Please Enter in your first name: \")\n",
    "    if isinstance(string, str):\n",
    "        return \"Hello %s\" % string\n",
    "\n",
    "hello_person()"
   ]
  },
  {
   "cell_type": "code",
   "execution_count": 22,
   "metadata": {},
   "outputs": [
    {
     "data": {
      "text/plain": [
       "'Hello Marry'"
      ]
     },
     "execution_count": 22,
     "metadata": {},
     "output_type": "execute_result"
    }
   ],
   "source": [
    "# Coding Exercise 28 String Formatting\n",
    "def hello_person (string):\n",
    "    \"\"\"\n",
    "    Implement a function that gets a person's name as parameter and greets the person with Hi Person. \n",
    "    Can't use f string just for fun. \n",
    "    \"\"\"\n",
    "    \n",
    "    if isinstance(string, str):\n",
    "        return \"Hello %s\" % string.capitalize()\n",
    "\n",
    "hello_person(\"marry\")"
   ]
  }
 ],
 "metadata": {
  "kernelspec": {
   "display_name": "Python 3",
   "language": "python",
   "name": "python3"
  },
  "language_info": {
   "codemirror_mode": {
    "name": "ipython",
    "version": 3
   },
   "file_extension": ".py",
   "mimetype": "text/x-python",
   "name": "python",
   "nbconvert_exporter": "python",
   "pygments_lexer": "ipython3",
   "version": "3.7.2"
  }
 },
 "nbformat": 4,
 "nbformat_minor": 4
}
