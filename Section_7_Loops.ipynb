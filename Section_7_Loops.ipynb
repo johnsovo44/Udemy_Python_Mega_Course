{
 "cells": [
  {
   "cell_type": "code",
   "execution_count": 2,
   "metadata": {
    "scrolled": true
   },
   "outputs": [
    {
     "name": "stdout",
     "output_type": "stream",
     "text": [
      "9\n",
      "9\n",
      "8\n"
     ]
    }
   ],
   "source": [
    "# For Loops: How and Why\n",
    "\n",
    "monday_temperatures = [9.1,8.8,7.6]\n",
    "\n",
    "for temperature in monday_temperatures:\n",
    "    print(round(temperature))\n",
    "    \n",
    "# for is an iterator, goes through items one by one and manipulates it to how you want."
   ]
  },
  {
   "cell_type": "code",
   "execution_count": 4,
   "metadata": {},
   "outputs": [
    {
     "name": "stdout",
     "output_type": "stream",
     "text": [
      "11\n",
      "34\n",
      "98\n",
      "43\n",
      "45\n",
      "54\n",
      "54\n"
     ]
    }
   ],
   "source": [
    "# Coding exercise 30: For loops\n",
    "\n",
    "def for_loop():\n",
    "    \"\"\"\n",
    "    Loop over the colors items and print out the item in every loop.\n",
    "    \"\"\"\n",
    "    colors = [11,34,98,43,45,54,54]\n",
    "    \n",
    "    for color in colors:\n",
    "        print(color)\n",
    "\n",
    "for_loop()"
   ]
  },
  {
   "cell_type": "code",
   "execution_count": 5,
   "metadata": {},
   "outputs": [
    {
     "name": "stdout",
     "output_type": "stream",
     "text": [
      "98\n",
      "54\n",
      "54\n"
     ]
    }
   ],
   "source": [
    "# Coding exercise 31: For loops\n",
    "\n",
    "def for_loop():\n",
    "    \"\"\"\n",
    "    Loop over the colors items and print out the item in every loop.\n",
    "    Only print items greater than 50\n",
    "    \"\"\"\n",
    "    colors = [11,34,98,43,45,54,54]\n",
    "    \n",
    "    for color in colors:\n",
    "        if color > 50:\n",
    "            print(color)\n",
    "\n",
    "for_loop()"
   ]
  },
  {
   "cell_type": "code",
   "execution_count": 6,
   "metadata": {},
   "outputs": [
    {
     "name": "stdout",
     "output_type": "stream",
     "text": [
      "11\n",
      "43\n",
      "54\n",
      "54\n"
     ]
    }
   ],
   "source": [
    "# Coding exercise 32: For loops\n",
    "\n",
    "def for_loop():\n",
    "    \"\"\"\n",
    "    Loop over the colors items and print out the item in every loop.\n",
    "    Print only if it is an integer.\n",
    "    \"\"\"\n",
    "    colors = [11,34.1,98.2,43,45.1,54,54]\n",
    "    \n",
    "    for color in colors:\n",
    "        if isinstance(color,int):\n",
    "            print(color)\n",
    "\n",
    "for_loop()"
   ]
  },
  {
   "cell_type": "code",
   "execution_count": 7,
   "metadata": {},
   "outputs": [
    {
     "name": "stdout",
     "output_type": "stream",
     "text": [
      "54\n",
      "54\n"
     ]
    }
   ],
   "source": [
    "# Coding exercise 33: For loops\n",
    "\n",
    "def for_loop():\n",
    "    \"\"\"\n",
    "    Loop over the colors items and print out the item in every loop.\n",
    "    Print only if it is an integer and greater than 50.\n",
    "    \"\"\"\n",
    "    colors = [11,34.1,98.2,43,45.1,54,54]\n",
    "    \n",
    "    for color in colors:\n",
    "        if isinstance(color,int) and color > 50:\n",
    "            print(color)\n",
    "\n",
    "for_loop()"
   ]
  },
  {
   "cell_type": "code",
   "execution_count": 11,
   "metadata": {},
   "outputs": [
    {
     "name": "stdout",
     "output_type": "stream",
     "text": [
      "('Marry', 9.1) \n",
      "\n",
      "('Sim', 8.8) \n",
      "\n",
      "('John', 7.5) \n",
      "\n",
      "Marry \n",
      "\n",
      "Sim \n",
      "\n",
      "John \n",
      "\n",
      "9.1 \n",
      "\n",
      "8.8 \n",
      "\n",
      "7.5 \n",
      "\n"
     ]
    }
   ],
   "source": [
    "# looping through a dictionary\n",
    "\n",
    "student_grades = {\"Marry\": 9.1, \"Sim\": 8.8, \"John\":7.5}\n",
    "\n",
    "# you can print over items, keys, or values:\n",
    "\n",
    "for grade in student_grades.items(): # this prints out a tuple of key and value\n",
    "    print(grade,\"\\n\")\n",
    "    \n",
    "for grade in student_grades.keys(): # just the key\n",
    "    print(grade,\"\\n\") \n",
    "    \n",
    "for grade in student_grades.values(): # just the value\n",
    "    print(grade,\"\\n\")"
   ]
  },
  {
   "cell_type": "code",
   "execution_count": 15,
   "metadata": {},
   "outputs": [
    {
     "name": "stdout",
     "output_type": "stream",
     "text": [
      "John Smith: +37682929928\n",
      "Marry Simpons: +423998200919\n"
     ]
    }
   ],
   "source": [
    "# Coding Exercise 34: Loop over Dictionary and Format\n",
    "\n",
    "def loop_diction():\n",
    "    \"\"\"\n",
    "    This will loop over a dictionary and print out \"key:value\" in that format.\n",
    "    \"\"\"\n",
    "    phone_numbers = {\"John Smith\": \"+37682929928\", \"Marry Simpons\": \"+423998200919\"}\n",
    "    \n",
    "    for name, number in phone_numbers.items():\n",
    "        print (\"%s: %s\" % (name, number))\n",
    "        \n",
    "loop_diction()"
   ]
  },
  {
   "cell_type": "code",
   "execution_count": 2,
   "metadata": {},
   "outputs": [
    {
     "name": "stdout",
     "output_type": "stream",
     "text": [
      "John Smith: 0037682929928\n",
      "Marry Simpons: 00423998200919\n"
     ]
    }
   ],
   "source": [
    "def loop_diction():\n",
    "    \"\"\"\n",
    "    This will loop over a dictionary and print out \"key:value\" in that format.\n",
    "    Replace + with 00.\n",
    "    \"\"\"\n",
    "    phone_numbers = {\"John Smith\": \"+37682929928\", \"Marry Simpons\": \"+423998200919\"}\n",
    "    \n",
    "    for name, number in phone_numbers.items():\n",
    "        number = number.replace(\"+\",\"00\")\n",
    "        print (\"%s: %s\" % (name, number))\n",
    "        \n",
    "loop_diction()"
   ]
  },
  {
   "cell_type": "code",
   "execution_count": 3,
   "metadata": {
    "scrolled": true
   },
   "outputs": [
    {
     "name": "stdout",
     "output_type": "stream",
     "text": [
      "1\n",
      "1\n",
      "1\n"
     ]
    }
   ],
   "source": [
    "# while loops\n",
    "# while a variable or iterable is true...\n",
    "\n",
    "a = 3\n",
    "\n",
    "while a > 0:\n",
    "    print(1)\n",
    "    a -= 1"
   ]
  },
  {
   "cell_type": "code",
   "execution_count": 4,
   "metadata": {
    "scrolled": true
   },
   "outputs": [
    {
     "name": "stdout",
     "output_type": "stream",
     "text": [
      "Enter username: blue\n",
      "Enter username: black\n",
      "Enter username: brown\n",
      "Enter username: py\n",
      "Enter username: pypy\n"
     ]
    }
   ],
   "source": [
    "# while loops Example with User Input\n",
    "\n",
    "username = ''\n",
    "\n",
    "while username != 'pypy':\n",
    "    username = input (\"Enter username: \")"
   ]
  },
  {
   "cell_type": "code",
   "execution_count": 5,
   "metadata": {},
   "outputs": [
    {
     "name": "stdout",
     "output_type": "stream",
     "text": [
      "Enter username: blue\n",
      "Enter username: blue\n",
      "Enter username: blue\n",
      "Enter username: pyp\n",
      "Enter username: pypy\n"
     ]
    }
   ],
   "source": [
    "# While loops with break and continue\n",
    "# This is the same code above but is more verbose and understood. \n",
    "# if the user equals pypy, break the loop, if not continue. \n",
    "# Simple.\n",
    "\n",
    "while True:\n",
    "    username = input(\"Enter username: \")\n",
    "    if username == 'pypy':\n",
    "        break\n",
    "    else:\n",
    "        continue"
   ]
  }
 ],
 "metadata": {
  "kernelspec": {
   "display_name": "Python 3",
   "language": "python",
   "name": "python3"
  },
  "language_info": {
   "codemirror_mode": {
    "name": "ipython",
    "version": 3
   },
   "file_extension": ".py",
   "mimetype": "text/x-python",
   "name": "python",
   "nbconvert_exporter": "python",
   "pygments_lexer": "ipython3",
   "version": "3.7.2"
  }
 },
 "nbformat": 4,
 "nbformat_minor": 4
}
