{
 "cells": [
  {
   "cell_type": "code",
   "execution_count": 8,
   "metadata": {},
   "outputs": [
    {
     "data": {
      "text/plain": [
       "'warm'"
      ]
     },
     "execution_count": 8,
     "metadata": {},
     "output_type": "execute_result"
    }
   ],
   "source": [
    "# Coding Exercise: Warm or Cold\n",
    "\n",
    "def temp(num):\n",
    "    \"\"\"\n",
    "    Takes in a temperature as parameter, returns warm if the temperature is greater than 7, \n",
    "    returns cold if the tem is equal or less than 7\n",
    "    \"\"\"\n",
    "    if num > 7:\n",
    "        return \"warm\"\n",
    "    else:\n",
    "        return \"cold\"\n",
    "\n",
    "temp(10)"
   ]
  },
  {
   "cell_type": "code",
   "execution_count": 9,
   "metadata": {},
   "outputs": [
    {
     "name": "stdout",
     "output_type": "stream",
     "text": [
      "x is greater than y\n"
     ]
    }
   ],
   "source": [
    "# refresher on elif\n",
    "\n",
    "x = 3\n",
    "y = 1\n",
    "if x > y:\n",
    "    print(\"x is greater than y\")\n",
    "elif x ==y:\n",
    "    print(\"x is equal to y\")\n",
    "else:\n",
    "    print(\"y is greater than x\")\n",
    "    \n",
    "# you can add as many elif statements as you like as long as you end the condition statements with else"
   ]
  },
  {
   "cell_type": "code",
   "execution_count": 10,
   "metadata": {
    "scrolled": true
   },
   "outputs": [
    {
     "name": "stdout",
     "output_type": "stream",
     "text": [
      "a\n",
      "aa\n",
      "aaa\n",
      "b\n",
      "bb\n",
      "bbb\n",
      "c\n",
      "cc\n",
      "ccc\n"
     ]
    }
   ],
   "source": [
    "# the use of white space\n",
    "# its important to make your code readable. That means creating proper white space\n",
    "# below are two examples that are wrong, and one example that is right.\n",
    "\n",
    "if      3 > 1: # too much space\n",
    "    print('a')\n",
    "    \n",
    "print('aa')\n",
    "print('aaa')\n",
    "\n",
    "if 3>1: # too little space\n",
    "    print('b')\n",
    "    \n",
    "print('bb')\n",
    "print('bbb')\n",
    "    \n",
    "if 3 > 1: # just right\n",
    "    print('c')\n",
    "    \n",
    "print('cc')\n",
    "print('ccc')"
   ]
  },
  {
   "cell_type": "code",
   "execution_count": 12,
   "metadata": {},
   "outputs": [
    {
     "data": {
      "text/plain": [
       "'Warm'"
      ]
     },
     "execution_count": 12,
     "metadata": {},
     "output_type": "execute_result"
    }
   ],
   "source": [
    "# Coding Exercise 27: Hot, Warm, Cold\n",
    "# expand with elif\n",
    "\n",
    "def hot_warm_cold(num):\n",
    "    \"\"\"\n",
    "    This takes a temperature as parameter.\n",
    "    Hot - greater than 25\n",
    "    Warm - 15 to 25 inclusive\n",
    "    Cold - less than 15\n",
    "    \"\"\"\n",
    "    \n",
    "    if num > 25:\n",
    "        return \"Hot\"\n",
    "    elif num < 15:\n",
    "        return \"Cold\"\n",
    "    else:\n",
    "        return \"Warm\"\n",
    "\n",
    "hot_warm_cold(17)"
   ]
  }
 ],
 "metadata": {
  "kernelspec": {
   "display_name": "Python 3",
   "language": "python",
   "name": "python3"
  },
  "language_info": {
   "codemirror_mode": {
    "name": "ipython",
    "version": 3
   },
   "file_extension": ".py",
   "mimetype": "text/x-python",
   "name": "python",
   "nbconvert_exporter": "python",
   "pygments_lexer": "ipython3",
   "version": "3.7.2"
  }
 },
 "nbformat": 4,
 "nbformat_minor": 4
}
